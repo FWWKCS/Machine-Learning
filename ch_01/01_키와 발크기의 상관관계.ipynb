{
  "nbformat": 4,
  "nbformat_minor": 0,
  "metadata": {
    "colab": {
      "provenance": [],
      "authorship_tag": "ABX9TyNuMo7uTwIwDKiXuohZ+xD3",
      "include_colab_link": true
    },
    "kernelspec": {
      "name": "python3",
      "display_name": "Python 3"
    },
    "language_info": {
      "name": "python"
    }
  },
  "cells": [
    {
      "cell_type": "markdown",
      "metadata": {
        "id": "view-in-github",
        "colab_type": "text"
      },
      "source": [
        "<a href=\"https://colab.research.google.com/github/FWWKCS/Machine-Learning/blob/main/01_%ED%82%A4%EC%99%80_%EB%B0%9C%ED%81%AC%EA%B8%B0%EC%9D%98_%EC%83%81%EA%B4%80%EA%B4%80%EA%B3%84.ipynb\" target=\"_parent\"><img src=\"https://colab.research.google.com/assets/colab-badge.svg\" alt=\"Open In Colab\"/></a>"
      ]
    },
    {
      "cell_type": "code",
      "execution_count": 1,
      "metadata": {
        "id": "ZNEuIy3ATqkP"
      },
      "outputs": [],
      "source": [
        "import numpy as np\n",
        "import pandas as pd\n",
        "import matplotlib.pyplot as plt\n",
        "\n",
        "height = [155.3, 157.5, 156.5, 163.9, 169.3, 170.5, 195.5, 175.1, 173.8, 177.7, 182.6, 180.7, 186.7, 189.9, 189.2]\n",
        "foot_size = [220, 230, 235, 240, 245, 250, 255, 260, 265, 270, 275, 280, 285, 290, 300]"
      ]
    },
    {
      "cell_type": "markdown",
      "source": [
        "# 데이터 전처리\n"
      ],
      "metadata": {
        "id": "klA1B6j00gYD"
      }
    },
    {
      "cell_type": "code",
      "source": [
        "# 극단치 데이터 제거\n",
        "foot_size = foot_size[0:6] + foot_size[7:]\n",
        "height = height[0:6] + height[7:]"
      ],
      "metadata": {
        "id": "f4oakQyo1SUI"
      },
      "execution_count": 2,
      "outputs": []
    },
    {
      "cell_type": "markdown",
      "source": [
        "# Numpy배열로 변환\n"
      ],
      "metadata": {
        "id": "gMZVSCst1WtA"
      }
    },
    {
      "cell_type": "code",
      "source": [
        "x = np.array(foot_size)\n",
        "y = np.array(height)"
      ],
      "metadata": {
        "id": "YR7dXrZS1dRg"
      },
      "execution_count": 3,
      "outputs": []
    },
    {
      "cell_type": "markdown",
      "source": [
        "# 최소제곱법 구현\n",
        "\n"
      ],
      "metadata": {
        "id": "N1IdNaon1mmH"
      }
    },
    {
      "cell_type": "code",
      "source": [
        "a = np.sum((y-np.mean(y))*(x-np.mean(x))) # a(기울기)의 분자\n",
        "a = a/np.sum((x-np.mean(x))**2) # a(기울기)의 분모를 구현하고 분자로 나눔\n",
        "b = np.mean(y)-a*np.mean(x) # b(절편)\n",
        "\n",
        "print(f'a(기울기) : {a}, b(절편) : {b}')"
      ],
      "metadata": {
        "colab": {
          "base_uri": "https://localhost:8080/"
        },
        "id": "4GaCpob61rz5",
        "outputId": "bfe4788c-9d0b-42ff-fd64-3991db731323"
      },
      "execution_count": 4,
      "outputs": [
        {
          "output_type": "stream",
          "name": "stdout",
          "text": [
            "a(기울기) : 0.4780531791907514, b(절편) : 49.01401156069366\n"
          ]
        }
      ]
    },
    {
      "cell_type": "markdown",
      "source": [
        "# 회귀선 구하기"
      ],
      "metadata": {
        "id": "dwfChDbt2bWt"
      }
    },
    {
      "cell_type": "code",
      "source": [
        "line_x = np.arange(min(x), max(x), 1) # x축 데이터의 최솟값부터 최댓값까지 1(cm)간격으로 line_x에 저장\n",
        "line_y = a*line_x + b # 저장된 line_x를 통해 line_y에 저장"
      ],
      "metadata": {
        "id": "QXBRjANy2fP1"
      },
      "execution_count": 5,
      "outputs": []
    },
    {
      "cell_type": "markdown",
      "source": [
        "# 데이터 시각화"
      ],
      "metadata": {
        "id": "QQfkYM4h2lIw"
      }
    },
    {
      "cell_type": "code",
      "source": [
        "# 회귀선 시각화\n",
        "plt.plot(line_x, line_y, color = 'r')\n",
        "plt.scatter(x, y)\n",
        "\n",
        "# 데이터를 그래프로 시각화\n",
        "plt.xlabel('Foot Size') # x축 데이터 명칭\n",
        "plt.ylabel('Height') # y축 데이터 명칭\n",
        "\n",
        "plt.show()"
      ],
      "metadata": {
        "colab": {
          "base_uri": "https://localhost:8080/",
          "height": 449
        },
        "id": "pyvcXq0c2nNs",
        "outputId": "5d5b3ffa-2943-4920-f7d6-d03d9e1a63ca"
      },
      "execution_count": 6,
      "outputs": [
        {
          "output_type": "display_data",
          "data": {
            "text/plain": [
              "<Figure size 640x480 with 1 Axes>"
            ],
            "image/png": "[encoded data removed]"
          },
          "metadata": {}
        }
      ]
    }
  ]
}
