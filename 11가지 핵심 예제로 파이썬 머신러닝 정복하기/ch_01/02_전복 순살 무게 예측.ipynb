{
  "nbformat": 4,
  "nbformat_minor": 0,
  "metadata": {
    "colab": {
      "provenance": [],
      "toc_visible": true,
      "authorship_tag": "ABX9TyPGav1qotoJZ/hRfbLjrby/",
      "include_colab_link": true
    },
    "kernelspec": {
      "name": "python3",
      "display_name": "Python 3"
    },
    "language_info": {
      "name": "python"
    }
  },
  "cells": [
    {
      "cell_type": "markdown",
      "metadata": {
        "id": "view-in-github",
        "colab_type": "text"
      },
      "source": [
        "<a href=\"https://colab.research.google.com/github/FWWKCS/Machine-Learning/blob/main/02_%EC%A0%84%EB%B3%B5%20%EC%88%9C%EC%82%B4%20%EB%AC%B4%EA%B2%8C%20%EC%98%88%EC%B8%A1.ipynb\" target=\"_parent\"><img src=\"https://colab.research.google.com/assets/colab-badge.svg\" alt=\"Open In Colab\"/></a>"
      ]
    },
    {
      "cell_type": "code",
      "execution_count": 1,
      "metadata": {
        "id": "TtwCwvk4-PDQ"
      },
      "outputs": [],
      "source": [
        "import numpy as np\n",
        "import pandas as pd\n",
        "import matplotlib.pyplot as plt\n",
        "\n",
        "# seed값 설정 (처음 실행만 랜덤, 이후엔 고정된 값)\n",
        "seed = 0\n",
        "np.random.seed(seed)"
      ]
    },
    {
      "cell_type": "markdown",
      "source": [
        "# 데이터 불러오기"
      ],
      "metadata": {
        "id": "xptgEE2KDdsR"
      }
    },
    {
      "cell_type": "code",
      "source": [
        "# 전복 빅데이터 4177개 여덟 가지 속성\n",
        "# 0 - 길이 | 1 - 직경 | 2 - 높이 | 3 - 중량 | 4 - 내장 무게 | 5 - 껍데기 무게 | 6 - 나이테 | 7 - 순살 무게\n",
        "\n",
        "# Colab 파일(좌측 파일 창)에 데이터 업로드 후\n",
        "try :\n",
        "  df = pd.read_csv('abalone.csv')\n",
        "\n",
        "# 드라이브 공유\n",
        "except :\n",
        "  url = 'https://drive.google.com/uc?export=download&id=18fnPvPptkskvYM-BXXv1XnYtPAR3ZiBn'\n",
        "  df = pd.read_csv(url, delimiter=\".\")\n",
        "\n",
        "print(df.info())\n",
        "print(df.head())"
      ],
      "metadata": {
        "colab": {
          "base_uri": "https://localhost:8080/"
        },
        "id": "7yHxrGNJDkAh",
        "outputId": "7553d11e-4f70-4a63-a2dc-655a2c7c0cb5"
      },
      "execution_count": 9,
      "outputs": [
        {
          "output_type": "stream",
          "name": "stdout",
          "text": [
            "<class 'pandas.core.frame.DataFrame'>\n",
            "RangeIndex: 4177 entries, 0 to 4176\n",
            "Data columns (total 8 columns):\n",
            " #   Column  Non-Null Count  Dtype  \n",
            "---  ------  --------------  -----  \n",
            " 0   길이      4177 non-null   float64\n",
            " 1   직경      4177 non-null   float64\n",
            " 2   두께      4177 non-null   float64\n",
            " 3   전체무게    4177 non-null   float64\n",
            " 4   내장무게    4177 non-null   float64\n",
            " 5   껍질무게    4177 non-null   float64\n",
            " 6   나이테     4177 non-null   int64  \n",
            " 7   순살무게    4177 non-null   float64\n",
            "dtypes: float64(7), int64(1)\n",
            "memory usage: 261.2 KB\n",
            "None\n",
            "      길이     직경     두께    전체무게    내장무게   껍질무게  나이테    순살무게\n",
            "0  0.455  0.365  0.095  0.5140  0.1010  0.150   15  0.2245\n",
            "1  0.350  0.265  0.090  0.2255  0.0485  0.070    7  0.0995\n",
            "2  0.530  0.420  0.135  0.6770  0.1415  0.210    9  0.2565\n",
            "3  0.440  0.365  0.125  0.5160  0.1140  0.155   10  0.2155\n",
            "4  0.330  0.255  0.080  0.2050  0.0395  0.055    7  0.0895\n"
          ]
        }
      ]
    },
    {
      "cell_type": "markdown",
      "source": [
        "# 데이터 전처리"
      ],
      "metadata": {
        "id": "To6QFdkfDIWb"
      }
    },
    {
      "cell_type": "code",
      "source": [
        "# 데이터 값 입력\n",
        "# 독립 변수 X : 길이, 직경, 두께, 전체무게, 내장무게, 껍질무게, 나이테\n",
        "# 종속 변수 Y : 순살 무게\n",
        "dataset = df.values\n",
        "X = dataset[0:4177 , 0:7]\n",
        "Y = dataset[: , 7]"
      ],
      "metadata": {
        "id": "7fX1G9GvDScp"
      },
      "execution_count": 10,
      "outputs": []
    },
    {
      "cell_type": "code",
      "source": [
        "#훈련 데이터 70%, 테스트 데이터 30%로 나누기\n",
        "from sklearn.model_selection import train_test_split\n",
        "X_train, X_test, Y_train, Y_test = train_test_split(X, Y, test_size = 0.3, random_state = seed)"
      ],
      "metadata": {
        "id": "CBCNwSHiGZIM"
      },
      "execution_count": 11,
      "outputs": []
    },
    {
      "cell_type": "code",
      "source": [
        "X_train.shape, X_test.shape, Y_train.shape, Y_test.shape"
      ],
      "metadata": {
        "colab": {
          "base_uri": "https://localhost:8080/"
        },
        "id": "3w9H3WOmHUB_",
        "outputId": "ad656555-bdd0-4446-c7b0-27fcb1cd99ff"
      },
      "execution_count": 12,
      "outputs": [
        {
          "output_type": "execute_result",
          "data": {
            "text/plain": [
              "((2923, 7), (1254, 7), (2923,), (1254,))"
            ]
          },
          "metadata": {},
          "execution_count": 12
        }
      ]
    },
    {
      "cell_type": "markdown",
      "source": [
        "# 선형 회귀 알고리즘으로 학습\n"
      ],
      "metadata": {
        "id": "gcvg74tuDJM-"
      }
    },
    {
      "cell_type": "code",
      "source": [
        "# 머신러닝-지도 학습-회귀 인공지능 모델\n",
        "from sklearn.linear_model import LinearRegression\n",
        "lin_reg = LinearRegression(fit_intercept=True)"
      ],
      "metadata": {
        "id": "REz5gIAOHyUU"
      },
      "execution_count": 13,
      "outputs": []
    },
    {
      "cell_type": "code",
      "source": [
        "# 모델 학습\n",
        "model = lin_reg.fit(X_train, Y_train)"
      ],
      "metadata": {
        "id": "GSjWSI28IR01"
      },
      "execution_count": 14,
      "outputs": []
    },
    {
      "cell_type": "code",
      "source": [
        "# 정확도 확인\n",
        "print(f'정확도(R^2) = {model.score(X_train, Y_train)}')"
      ],
      "metadata": {
        "colab": {
          "base_uri": "https://localhost:8080/"
        },
        "id": "ZlWqz9hUIlvf",
        "outputId": "a0279bfc-eb2b-441e-e212-3e7df31e4e1b"
      },
      "execution_count": 15,
      "outputs": [
        {
          "output_type": "stream",
          "name": "stdout",
          "text": [
            "정확도(R^2) = 0.9683422099452302\n"
          ]
        }
      ]
    },
    {
      "cell_type": "code",
      "source": [
        "# 가중치와 편향 확인\n",
        "w = model.coef_\n",
        "b = model.intercept_\n",
        "\n",
        "print(w)\n",
        "print(b)"
      ],
      "metadata": {
        "colab": {
          "base_uri": "https://localhost:8080/"
        },
        "id": "0GHvO2k9cqwT",
        "outputId": "a34de64e-8dda-48b6-dd00-f168138265a3"
      },
      "execution_count": 16,
      "outputs": [
        {
          "output_type": "stream",
          "name": "stdout",
          "text": [
            "[ 0.13216544  0.07453926  0.03037804  0.69165655 -0.41884668 -0.68525444\n",
            " -0.00646454]\n",
            "-0.014075705572578923\n"
          ]
        }
      ]
    },
    {
      "cell_type": "markdown",
      "source": [
        "# 머신러닝 모델 테스트"
      ],
      "metadata": {
        "id": "ekK80qZKc-go"
      }
    },
    {
      "cell_type": "code",
      "source": [
        "Y_prediction = model.predict(X_test).flatten()\n",
        "for i in range(10) :\n",
        "    label = Y_test[i]\n",
        "    prediction = Y_prediction[i]\n",
        "    print(f'실제 살무게 : {label.round(3)}, 학습 후 예측 살무게 : {prediction.round(3)}')"
      ],
      "metadata": {
        "colab": {
          "base_uri": "https://localhost:8080/"
        },
        "id": "W2_SEe5ddBiV",
        "outputId": "24603b7e-c1cb-4260-a286-ea3a2715b5a3"
      },
      "execution_count": 17,
      "outputs": [
        {
          "output_type": "stream",
          "name": "stdout",
          "text": [
            "실제 살무게 : 0.278, 학습 후 예측 살무게 : 0.314\n",
            "실제 살무게 : 0.261, 학습 후 예측 살무게 : 0.267\n",
            "실제 살무게 : 0.527, 학습 후 예측 살무게 : 0.531\n",
            "실제 살무게 : 0.022, 학습 후 예측 살무게 : 0.016\n",
            "실제 살무게 : 0.674, 학습 후 예측 살무게 : 0.665\n",
            "실제 살무게 : 0.478, 학습 후 예측 살무게 : 0.492\n",
            "실제 살무게 : 0.266, 학습 후 예측 살무게 : 0.257\n",
            "실제 살무게 : 0.25, 학습 후 예측 살무게 : 0.29\n",
            "실제 살무게 : 0.126, 학습 후 예측 살무게 : 0.14\n",
            "실제 살무게 : 0.46, 학습 후 예측 살무게 : 0.508\n"
          ]
        }
      ]
    },
    {
      "cell_type": "markdown",
      "source": [
        "# 딥러닝 모델 생성"
      ],
      "metadata": {
        "id": "-hu3AgMzdxAs"
      }
    },
    {
      "cell_type": "code",
      "source": [
        "# 머신러닝에서 사이킷런(sklearn)을 주로 사용\n",
        "# 딥러닝은 케라스(keras), 텐서플로(tensorflow) 패키지를 주로 사용\n",
        "\n",
        "from keras.models import Sequential\n",
        "from keras.layers import Dense\n",
        "import tensorflow as tf\n",
        "\n",
        "tf.random.set_seed(3)"
      ],
      "metadata": {
        "id": "JWyorhBUd0or"
      },
      "execution_count": 18,
      "outputs": []
    },
    {
      "cell_type": "code",
      "source": [
        "# 딥러닝 모델\n",
        "model = Sequential() # 딥러닝 모델 층 생성\n",
        "model.add(Dense(28, input_dim = 7, activation = 'relu'))\n",
        "# Dense(입력층 퍼셉트론 개수, 입력층에 한하여 속성의 개수, 활성화 함수)\n",
        "model.add(Dense(7, activation = 'relu')) # 중간 은닉층\n",
        "model.add(Dense(1)) # 출력층 ( 활성화 함수 없음 )"
      ],
      "metadata": {
        "id": "s7QrSMgfeLiS"
      },
      "execution_count": 22,
      "outputs": []
    },
    {
      "cell_type": "code",
      "source": [
        "# 딥러닝 모델 컴파일\n",
        "model.compile(loss='mean_squared_error', optimizer='adam', metrics=['accuracy'])"
      ],
      "metadata": {
        "id": "1w_hka5agwE1"
      },
      "execution_count": 30,
      "outputs": []
    },
    {
      "cell_type": "markdown",
      "source": [
        "loss(오차) → 최소제곱법 이용\n",
        "\n",
        "optimizer → 통계학의 '경사하강법'(adam)을 최적화\n",
        "\n",
        "모델의 수행을 확인하기 위해 accuracy 체크"
      ],
      "metadata": {
        "id": "LCF3mXKFhBpW"
      }
    },
    {
      "cell_type": "code",
      "source": [
        "# 모델 컴파일 이후 데이터 학습\n",
        "history = model.fit(X_train, Y_train, epochs=15, batch_size=10, validation_split=0.25)\n",
        "\n",
        "# epochs : 학습 횟수\n",
        "# batch_size : 데이터 소그룹 ( 2000개 이상의 훈련 데이터를 한 번에 학습 불가 )\n",
        "# validation_split : 모델 기능 향상을 위해 모의시험을 치를때, 사용되는 검증 데이터 비율 설정값"
      ],
      "metadata": {
        "colab": {
          "base_uri": "https://localhost:8080/"
        },
        "id": "SqRN0F_yh7HB",
        "outputId": "0c0ec14d-e3f1-4f19-d956-719413a6617d"
      },
      "execution_count": 31,
      "outputs": [
        {
          "output_type": "stream",
          "name": "stdout",
          "text": [
            "Epoch 1/15\n",
            "220/220 [==============================] - 1s 2ms/step - loss: 0.0022 - accuracy: 0.0000e+00 - val_loss: 0.0018 - val_accuracy: 0.0000e+00\n",
            "Epoch 2/15\n",
            "220/220 [==============================] - 0s 1ms/step - loss: 0.0019 - accuracy: 0.0000e+00 - val_loss: 0.0020 - val_accuracy: 0.0000e+00\n",
            "Epoch 3/15\n",
            "220/220 [==============================] - 0s 2ms/step - loss: 0.0020 - accuracy: 0.0000e+00 - val_loss: 0.0018 - val_accuracy: 0.0000e+00\n",
            "Epoch 4/15\n",
            "220/220 [==============================] - 0s 2ms/step - loss: 0.0019 - accuracy: 0.0000e+00 - val_loss: 0.0019 - val_accuracy: 0.0000e+00\n",
            "Epoch 5/15\n",
            "220/220 [==============================] - 0s 1ms/step - loss: 0.0019 - accuracy: 0.0000e+00 - val_loss: 0.0024 - val_accuracy: 0.0000e+00\n",
            "Epoch 6/15\n",
            "220/220 [==============================] - 0s 1ms/step - loss: 0.0018 - accuracy: 0.0000e+00 - val_loss: 0.0018 - val_accuracy: 0.0000e+00\n",
            "Epoch 7/15\n",
            "220/220 [==============================] - 0s 1ms/step - loss: 0.0019 - accuracy: 0.0000e+00 - val_loss: 0.0018 - val_accuracy: 0.0000e+00\n",
            "Epoch 8/15\n",
            "220/220 [==============================] - 0s 1ms/step - loss: 0.0019 - accuracy: 0.0000e+00 - val_loss: 0.0022 - val_accuracy: 0.0000e+00\n",
            "Epoch 9/15\n",
            "220/220 [==============================] - 0s 1ms/step - loss: 0.0020 - accuracy: 0.0000e+00 - val_loss: 0.0032 - val_accuracy: 0.0000e+00\n",
            "Epoch 10/15\n",
            "220/220 [==============================] - 0s 1ms/step - loss: 0.0022 - accuracy: 0.0000e+00 - val_loss: 0.0033 - val_accuracy: 0.0000e+00\n",
            "Epoch 11/15\n",
            "220/220 [==============================] - 0s 1ms/step - loss: 0.0020 - accuracy: 0.0000e+00 - val_loss: 0.0019 - val_accuracy: 0.0000e+00\n",
            "Epoch 12/15\n",
            "220/220 [==============================] - 0s 1ms/step - loss: 0.0019 - accuracy: 0.0000e+00 - val_loss: 0.0017 - val_accuracy: 0.0000e+00\n",
            "Epoch 13/15\n",
            "220/220 [==============================] - 0s 1ms/step - loss: 0.0018 - accuracy: 0.0000e+00 - val_loss: 0.0017 - val_accuracy: 0.0000e+00\n",
            "Epoch 14/15\n",
            "220/220 [==============================] - 0s 1ms/step - loss: 0.0019 - accuracy: 0.0000e+00 - val_loss: 0.0017 - val_accuracy: 0.0000e+00\n",
            "Epoch 15/15\n",
            "220/220 [==============================] - 0s 1ms/step - loss: 0.0019 - accuracy: 0.0000e+00 - val_loss: 0.0017 - val_accuracy: 0.0000e+00\n"
          ]
        }
      ]
    },
    {
      "cell_type": "markdown",
      "source": [
        "loss(평균제곱오차) = 2.2g\n",
        "\n",
        "val_loss(검증데이터 평균제곱오차) = 3.3g"
      ],
      "metadata": {
        "id": "jWIijoNvi99C"
      }
    },
    {
      "cell_type": "code",
      "source": [
        "# 학습 횟수에 따른 오차 그래프\n",
        "plt.plot(history.history['loss'], 'b-', label='loss')\n",
        "plt.plot(history.history['val_loss'], 'r--', label='val_loss')\n",
        "plt.xlabel('Epoch')\n",
        "plt.legend()\n",
        "plt.show()"
      ],
      "metadata": {
        "colab": {
          "base_uri": "https://localhost:8080/",
          "height": 449
        },
        "id": "hKano8Xgjdfo",
        "outputId": "73f7d6d5-5ed8-4a7f-d2cd-ef2583d6f3aa"
      },
      "execution_count": 34,
      "outputs": [
        {
          "output_type": "display_data",
          "data": {
            "text/plain": [
              "<Figure size 640x480 with 1 Axes>"
            ],
            "image/png": "[encoded data removed]"
          },
          "metadata": {}
        }
      ]
    },
    {
      "cell_type": "code",
      "source": [
        "# 딥러닝 모델 평가\n",
        "model.evaluate(X_test, Y_test)"
      ],
      "metadata": {
        "colab": {
          "base_uri": "https://localhost:8080/"
        },
        "id": "DwcbTE2jkmsS",
        "outputId": "d4931ae6-d3cc-40b9-94f5-fdcab5e124b9"
      },
      "execution_count": 35,
      "outputs": [
        {
          "output_type": "stream",
          "name": "stdout",
          "text": [
            "40/40 [==============================] - 0s 1ms/step - loss: 0.0016 - accuracy: 0.0000e+00\n"
          ]
        },
        {
          "output_type": "execute_result",
          "data": {
            "text/plain": [
              "[0.0016262730350717902, 0.0]"
            ]
          },
          "metadata": {},
          "execution_count": 35
        }
      ]
    }
  ]
}
